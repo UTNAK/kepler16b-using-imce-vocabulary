{
 "cells": [
  {
   "cell_type": "markdown",
   "metadata": {},
   "source": [
    "# Prototype for integration of descriptive and analysis model using Jupyter"
   ]
  },
  {
   "cell_type": "markdown",
   "metadata": {},
   "source": [
    "## Build Environment\n",
    "pip install sparqlwrapper"
   ]
  },
  {
   "cell_type": "markdown",
   "metadata": {},
   "source": [
    "## Get Configuration & Mass Properties\n"
   ]
  },
  {
   "cell_type": "code",
   "execution_count": 1,
   "metadata": {},
   "outputs": [
    {
     "name": "stdout",
     "output_type": "stream",
     "text": [
      "<urlopen error [Errno 61] Connection refused>\n"
     ]
    }
   ],
   "source": [
    "from SPARQLWrapper import SPARQLWrapper, JSON\n",
    "\n",
    "sparql = SPARQLWrapper(\n",
    "    \"http://localhost:3030/tutorial2/sparql\"\n",
    ")\n",
    "sparql.setReturnFormat(JSON)\n",
    "\n",
    "# gets the first 3 geological ages\n",
    "# from a Geological Timescale database,\n",
    "# via a SPARQL endpoint\n",
    "sparql.setQuery(\"\"\"\n",
    "PREFIX mission:     <http://imce.jpl.nasa.gov/foundation/mission#>\n",
    "PREFIX base:        <http://imce.jpl.nasa.gov/foundation/base#>\n",
    "PREFIX project:     <http://imce.jpl.nasa.gov/foundation/project#>\n",
    "PREFIX vim4:\t\t<http://bipm.org/jcgm/vim4#>\n",
    "\n",
    "SELECT DISTINCT ?c1 ?c1_instancename ?c1_id ?c1_name ?c1_mass ?c2 ?c2_instancename ?c2_id ?c2_name ?c2_mass ?c3 ?c3_instancename ?c3_id ?c3_name ?c4\n",
    "WHERE {\n",
    "\n",
    "  VALUES ?c1 { <http://example.com/tutorial2/description/components#orbiter-spacecraft> }\n",
    "\n",
    "\n",
    "   OPTIONAL{ \n",
    "    ?c1 base:hasIdentifier ?c1_id ;\n",
    "      base:hasCanonicalName ?c1_name ;\n",
    "  }\n",
    " \tOPTIONAL {\n",
    "\t\t?c1_mass_mag vim4:characterizes ?c1 ;\n",
    "\t\t\tvim4:hasDoubleNumber ?c1_mass .\n",
    "\t} \n",
    "  OPTIONAL{\n",
    "    ?c1 base:contains ?c2 ;\n",
    "    OPTIONAL{\n",
    "      ?c2 base:hasIdentifier ?c2_id ;\n",
    "          base:hasCanonicalName ?c2_name .\n",
    "    }\n",
    " \tOPTIONAL {\n",
    "\t\t?c2_mass_mag vim4:characterizes ?c2 ;\n",
    "\t\t\tvim4:hasDoubleNumber ?c2_mass .\n",
    "\t}     \n",
    "    OPTIONAL{\n",
    "      ?c2 project:isSuppliedBy ?c3 ;\n",
    "          OPTIONAL{\n",
    "            ?c3 base:hasIdentifier ?c3_id ;\n",
    "                base:hasCanonicalName ?c3_name;\n",
    "                project:isAuthorizedBy ?c4 .\n",
    "          }          \n",
    "    }    \n",
    "  }\n",
    "\n",
    "\n",
    "  BIND(STRAFTER(STR(?c1), \"#\") AS ?c1_instancename) .\n",
    "  BIND(STRAFTER(STR(?c2), \"#\") AS ?c2_instancename) .\n",
    "  BIND(STRAFTER(STR(?c3), \"#\") AS ?c3_instancename) .\n",
    " }\n",
    "ORDER BY ?c2_id\n",
    "\n",
    "   \"\"\"\n",
    ")\n",
    "\n",
    "try:\n",
    "    ret = sparql.queryAndConvert()\n",
    "\n",
    "    for r in ret[\"results\"][\"bindings\"]:\n",
    "        print(r)\n",
    "except Exception as e:\n",
    "    print(e)"
   ]
  }
 ],
 "metadata": {
  "kernelspec": {
   "display_name": "py393",
   "language": "python",
   "name": "python3"
  },
  "language_info": {
   "codemirror_mode": {
    "name": "ipython",
    "version": 3
   },
   "file_extension": ".py",
   "mimetype": "text/x-python",
   "name": "python",
   "nbconvert_exporter": "python",
   "pygments_lexer": "ipython3",
   "version": "3.9.19"
  }
 },
 "nbformat": 4,
 "nbformat_minor": 2
}
