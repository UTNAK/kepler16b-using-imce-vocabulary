{
 "cells": [
  {
   "cell_type": "code",
   "execution_count": null,
   "metadata": {},
   "outputs": [],
   "source": [
    "%pip install sparqlkernel"
   ]
  },
  {
   "attachments": {},
   "cell_type": "markdown",
   "metadata": {},
   "source": [
    "# Kebler16b\n",
    "Technical Report, 4 March 2023\n",
    "\n",
    "This version:  \n",
    "&nbsp;&nbsp;&nbsp;&nbsp;https://github.com/melaasar/kepler\n",
    "\n",
    "Issue Tracking:  \n",
    "&nbsp;&nbsp;&nbsp;&nbsp;[GitHub](https://github.com/melaasar/kepler)\n",
    "    \n",
    "Editor:  \n",
    "&nbsp;&nbsp;&nbsp;&nbsp;[Maged Elaasar](https://www.opencaesar.io/contributors/Maged%20Elaasar.html)\n",
    "\n",
    "Copyright © 2023 Maged Elaasar.\n",
    "\n",
    "---"
   ]
  },
  {
   "attachments": {},
   "cell_type": "markdown",
   "metadata": {},
   "source": [
    "## 1.  Objectives\n",
    "\n",
    "The following are the objectives of the Kepler13b project:"
   ]
  }
 ],
 "metadata": {
  "kernelspec": {
   "display_name": "base",
   "language": "python",
   "name": "python3"
  },
  "language_info": {
   "codemirror_mode": {
    "name": "ipython",
    "version": 3
   },
   "file_extension": ".py",
   "mimetype": "text/x-python",
   "name": "python",
   "nbconvert_exporter": "python",
   "pygments_lexer": "ipython3",
   "version": "3.9.13"
  },
  "orig_nbformat": 4
 },
 "nbformat": 4,
 "nbformat_minor": 2
}
