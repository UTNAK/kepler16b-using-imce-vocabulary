{
 "cells": [
  {
   "cell_type": "code",
   "execution_count": 1,
   "metadata": {},
   "outputs": [
    {
     "name": "stdout",
     "output_type": "stream",
     "text": [
      "Requirement already satisfied: sparqlkernel in /opt/anaconda3/lib/python3.9/site-packages (1.3.0)\n",
      "Requirement already satisfied: traitlets in /opt/anaconda3/lib/python3.9/site-packages (from sparqlkernel) (5.1.1)\n",
      "Requirement already satisfied: notebook in /opt/anaconda3/lib/python3.9/site-packages (from sparqlkernel) (6.4.12)\n",
      "Requirement already satisfied: pygments in /opt/anaconda3/lib/python3.9/site-packages (from sparqlkernel) (2.11.2)\n",
      "Requirement already satisfied: SPARQLWrapper in /opt/anaconda3/lib/python3.9/site-packages (from sparqlkernel) (2.0.0)\n",
      "Requirement already satisfied: rdflib in /opt/anaconda3/lib/python3.9/site-packages (from sparqlkernel) (6.2.0)\n",
      "Requirement already satisfied: ipykernel>=4.0 in /opt/anaconda3/lib/python3.9/site-packages (from sparqlkernel) (6.15.2)\n",
      "Requirement already satisfied: setuptools in /opt/anaconda3/lib/python3.9/site-packages (from sparqlkernel) (63.4.1)\n",
      "Requirement already satisfied: ipython>=7.23.1 in /opt/anaconda3/lib/python3.9/site-packages (from ipykernel>=4.0->sparqlkernel) (7.31.1)\n",
      "Requirement already satisfied: packaging in /opt/anaconda3/lib/python3.9/site-packages (from ipykernel>=4.0->sparqlkernel) (21.3)\n",
      "Requirement already satisfied: jupyter-client>=6.1.12 in /opt/anaconda3/lib/python3.9/site-packages (from ipykernel>=4.0->sparqlkernel) (7.3.4)\n",
      "Requirement already satisfied: psutil in /opt/anaconda3/lib/python3.9/site-packages (from ipykernel>=4.0->sparqlkernel) (5.9.0)\n",
      "Requirement already satisfied: pyzmq>=17 in /opt/anaconda3/lib/python3.9/site-packages (from ipykernel>=4.0->sparqlkernel) (23.2.0)\n",
      "Requirement already satisfied: tornado>=6.1 in /opt/anaconda3/lib/python3.9/site-packages (from ipykernel>=4.0->sparqlkernel) (6.1)\n",
      "Requirement already satisfied: nest-asyncio in /opt/anaconda3/lib/python3.9/site-packages (from ipykernel>=4.0->sparqlkernel) (1.5.5)\n",
      "Requirement already satisfied: debugpy>=1.0 in /opt/anaconda3/lib/python3.9/site-packages (from ipykernel>=4.0->sparqlkernel) (1.5.1)\n",
      "Requirement already satisfied: appnope in /opt/anaconda3/lib/python3.9/site-packages (from ipykernel>=4.0->sparqlkernel) (0.1.2)\n",
      "Requirement already satisfied: matplotlib-inline>=0.1 in /opt/anaconda3/lib/python3.9/site-packages (from ipykernel>=4.0->sparqlkernel) (0.1.6)\n",
      "Requirement already satisfied: terminado>=0.8.3 in /opt/anaconda3/lib/python3.9/site-packages (from notebook->sparqlkernel) (0.13.1)\n",
      "Requirement already satisfied: prometheus-client in /opt/anaconda3/lib/python3.9/site-packages (from notebook->sparqlkernel) (0.14.1)\n",
      "Requirement already satisfied: nbformat in /opt/anaconda3/lib/python3.9/site-packages (from notebook->sparqlkernel) (5.5.0)\n",
      "Requirement already satisfied: argon2-cffi in /opt/anaconda3/lib/python3.9/site-packages (from notebook->sparqlkernel) (21.3.0)\n",
      "Requirement already satisfied: ipython-genutils in /opt/anaconda3/lib/python3.9/site-packages (from notebook->sparqlkernel) (0.2.0)\n",
      "Requirement already satisfied: jinja2 in /opt/anaconda3/lib/python3.9/site-packages (from notebook->sparqlkernel) (2.11.3)\n",
      "Requirement already satisfied: nbconvert>=5 in /opt/anaconda3/lib/python3.9/site-packages (from notebook->sparqlkernel) (6.4.4)\n",
      "Requirement already satisfied: Send2Trash>=1.8.0 in /opt/anaconda3/lib/python3.9/site-packages (from notebook->sparqlkernel) (1.8.0)\n",
      "Requirement already satisfied: jupyter-core>=4.6.1 in /opt/anaconda3/lib/python3.9/site-packages (from notebook->sparqlkernel) (4.11.1)\n",
      "Requirement already satisfied: pyparsing in /opt/anaconda3/lib/python3.9/site-packages (from rdflib->sparqlkernel) (3.0.9)\n",
      "Requirement already satisfied: isodate in /opt/anaconda3/lib/python3.9/site-packages (from rdflib->sparqlkernel) (0.6.1)\n",
      "Requirement already satisfied: backcall in /opt/anaconda3/lib/python3.9/site-packages (from ipython>=7.23.1->ipykernel>=4.0->sparqlkernel) (0.2.0)\n",
      "Requirement already satisfied: jedi>=0.16 in /opt/anaconda3/lib/python3.9/site-packages (from ipython>=7.23.1->ipykernel>=4.0->sparqlkernel) (0.18.1)\n",
      "Requirement already satisfied: prompt-toolkit!=3.0.0,!=3.0.1,<3.1.0,>=2.0.0 in /opt/anaconda3/lib/python3.9/site-packages (from ipython>=7.23.1->ipykernel>=4.0->sparqlkernel) (3.0.20)\n",
      "Requirement already satisfied: decorator in /opt/anaconda3/lib/python3.9/site-packages (from ipython>=7.23.1->ipykernel>=4.0->sparqlkernel) (5.1.1)\n",
      "Requirement already satisfied: pickleshare in /opt/anaconda3/lib/python3.9/site-packages (from ipython>=7.23.1->ipykernel>=4.0->sparqlkernel) (0.7.5)\n",
      "Requirement already satisfied: pexpect>4.3 in /opt/anaconda3/lib/python3.9/site-packages (from ipython>=7.23.1->ipykernel>=4.0->sparqlkernel) (4.8.0)\n",
      "Requirement already satisfied: python-dateutil>=2.8.2 in /opt/anaconda3/lib/python3.9/site-packages (from jupyter-client>=6.1.12->ipykernel>=4.0->sparqlkernel) (2.8.2)\n",
      "Requirement already satisfied: entrypoints in /opt/anaconda3/lib/python3.9/site-packages (from jupyter-client>=6.1.12->ipykernel>=4.0->sparqlkernel) (0.4)\n",
      "Requirement already satisfied: pandocfilters>=1.4.1 in /opt/anaconda3/lib/python3.9/site-packages (from nbconvert>=5->notebook->sparqlkernel) (1.5.0)\n",
      "Requirement already satisfied: defusedxml in /opt/anaconda3/lib/python3.9/site-packages (from nbconvert>=5->notebook->sparqlkernel) (0.7.1)\n",
      "Requirement already satisfied: testpath in /opt/anaconda3/lib/python3.9/site-packages (from nbconvert>=5->notebook->sparqlkernel) (0.6.0)\n",
      "Requirement already satisfied: jupyterlab-pygments in /opt/anaconda3/lib/python3.9/site-packages (from nbconvert>=5->notebook->sparqlkernel) (0.1.2)\n",
      "Requirement already satisfied: bleach in /opt/anaconda3/lib/python3.9/site-packages (from nbconvert>=5->notebook->sparqlkernel) (4.1.0)\n",
      "Requirement already satisfied: nbclient<0.6.0,>=0.5.0 in /opt/anaconda3/lib/python3.9/site-packages (from nbconvert>=5->notebook->sparqlkernel) (0.5.13)\n",
      "Requirement already satisfied: mistune<2,>=0.8.1 in /opt/anaconda3/lib/python3.9/site-packages (from nbconvert>=5->notebook->sparqlkernel) (0.8.4)\n",
      "Requirement already satisfied: beautifulsoup4 in /opt/anaconda3/lib/python3.9/site-packages (from nbconvert>=5->notebook->sparqlkernel) (4.11.1)\n",
      "Requirement already satisfied: MarkupSafe>=0.23 in /opt/anaconda3/lib/python3.9/site-packages (from jinja2->notebook->sparqlkernel) (2.0.1)\n",
      "Requirement already satisfied: fastjsonschema in /opt/anaconda3/lib/python3.9/site-packages (from nbformat->notebook->sparqlkernel) (2.16.2)\n",
      "Requirement already satisfied: jsonschema>=2.6 in /opt/anaconda3/lib/python3.9/site-packages (from nbformat->notebook->sparqlkernel) (4.16.0)\n",
      "Requirement already satisfied: ptyprocess in /opt/anaconda3/lib/python3.9/site-packages (from terminado>=0.8.3->notebook->sparqlkernel) (0.7.0)\n",
      "Requirement already satisfied: argon2-cffi-bindings in /opt/anaconda3/lib/python3.9/site-packages (from argon2-cffi->notebook->sparqlkernel) (21.2.0)\n",
      "Requirement already satisfied: six in /opt/anaconda3/lib/python3.9/site-packages (from isodate->rdflib->sparqlkernel) (1.16.0)\n",
      "Requirement already satisfied: parso<0.9.0,>=0.8.0 in /opt/anaconda3/lib/python3.9/site-packages (from jedi>=0.16->ipython>=7.23.1->ipykernel>=4.0->sparqlkernel) (0.8.3)\n",
      "Requirement already satisfied: pyrsistent!=0.17.0,!=0.17.1,!=0.17.2,>=0.14.0 in /opt/anaconda3/lib/python3.9/site-packages (from jsonschema>=2.6->nbformat->notebook->sparqlkernel) (0.18.0)\n",
      "Requirement already satisfied: attrs>=17.4.0 in /opt/anaconda3/lib/python3.9/site-packages (from jsonschema>=2.6->nbformat->notebook->sparqlkernel) (21.4.0)\n",
      "Requirement already satisfied: wcwidth in /opt/anaconda3/lib/python3.9/site-packages (from prompt-toolkit!=3.0.0,!=3.0.1,<3.1.0,>=2.0.0->ipython>=7.23.1->ipykernel>=4.0->sparqlkernel) (0.2.5)\n",
      "Requirement already satisfied: cffi>=1.0.1 in /opt/anaconda3/lib/python3.9/site-packages (from argon2-cffi-bindings->argon2-cffi->notebook->sparqlkernel) (1.15.1)\n",
      "Requirement already satisfied: soupsieve>1.2 in /opt/anaconda3/lib/python3.9/site-packages (from beautifulsoup4->nbconvert>=5->notebook->sparqlkernel) (2.3.1)\n",
      "Requirement already satisfied: webencodings in /opt/anaconda3/lib/python3.9/site-packages (from bleach->nbconvert>=5->notebook->sparqlkernel) (0.5.1)\n",
      "Requirement already satisfied: pycparser in /opt/anaconda3/lib/python3.9/site-packages (from cffi>=1.0.1->argon2-cffi-bindings->argon2-cffi->notebook->sparqlkernel) (2.21)\n",
      "Note: you may need to restart the kernel to use updated packages.\n"
     ]
    },
    {
     "name": "stderr",
     "output_type": "stream",
     "text": [
      "UsageError: Line magic function `%jupyter` not found.\n"
     ]
    }
   ],
   "source": [
    "%pip install sparqlkernel\n",
    "%jupyter sparqlkernel install"
   ]
  },
  {
   "attachments": {},
   "cell_type": "markdown",
   "metadata": {},
   "source": [
    "# Kebler16b\n",
    "Technical Report, 4 March 2023\n",
    "\n",
    "This version:  \n",
    "&nbsp;&nbsp;&nbsp;&nbsp;https://github.com/melaasar/kepler\n",
    "\n",
    "Issue Tracking:  \n",
    "&nbsp;&nbsp;&nbsp;&nbsp;[GitHub](https://github.com/melaasar/kepler)\n",
    "    \n",
    "Editor:  \n",
    "&nbsp;&nbsp;&nbsp;&nbsp;[Maged Elaasar](https://www.opencaesar.io/contributors/Maged%20Elaasar.html)\n",
    "\n",
    "Copyright © 2023 Maged Elaasar.\n",
    "\n",
    "---"
   ]
  },
  {
   "attachments": {},
   "cell_type": "markdown",
   "metadata": {},
   "source": [
    "## 1.  Objectives\n",
    "\n",
    "The following are the objectives of the Kepler13b project:"
   ]
  },
  {
   "cell_type": "code",
   "execution_count": null,
   "metadata": {},
   "outputs": [],
   "source": [
    "    "
   ]
  }
 ],
 "metadata": {
  "kernelspec": {
   "display_name": "base",
   "language": "python",
   "name": "python3"
  },
  "language_info": {
   "codemirror_mode": {
    "name": "ipython",
    "version": 3
   },
   "file_extension": ".py",
   "mimetype": "text/x-python",
   "name": "python",
   "nbconvert_exporter": "python",
   "pygments_lexer": "ipython3",
   "version": "3.9.13"
  },
  "orig_nbformat": 4
 },
 "nbformat": 4,
 "nbformat_minor": 2
}
