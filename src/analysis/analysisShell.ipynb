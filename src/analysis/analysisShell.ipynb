{
 "cells": [
  {
   "cell_type": "markdown",
   "metadata": {},
   "source": [
    "# Prototype for integration of descriptive and analysis model using Jupyter"
   ]
  },
  {
   "cell_type": "markdown",
   "metadata": {},
   "source": [
    "## Build Environment\n",
    "pip install sparqlwrapper"
   ]
  },
  {
   "cell_type": "markdown",
   "metadata": {},
   "source": [
    "## Run Fuseki Endpoint using OML-Vision GUI\n",
    "\n",
    "1. Run build\n",
    "2. Run load"
   ]
  },
  {
   "cell_type": "markdown",
   "metadata": {},
   "source": [
    "## Setup SPARQL"
   ]
  },
  {
   "cell_type": "code",
   "execution_count": 1,
   "metadata": {},
   "outputs": [],
   "source": [
    "from SPARQLWrapper import SPARQLWrapper, JSON\n",
    "import pandas as pd\n",
    "\n",
    "\n",
    "sparql = SPARQLWrapper(\n",
    "    \"http://localhost:3030/tutorial2/sparql\"\n",
    ")\n",
    "sparql.setReturnFormat(JSON)\n",
    "\n"
   ]
  },
  {
   "cell_type": "markdown",
   "metadata": {},
   "source": [
    "## Get Configuration & Mass Properties\n",
    "\n",
    "### SPARQL Code"
   ]
  },
  {
   "cell_type": "code",
   "execution_count": 2,
   "metadata": {},
   "outputs": [
    {
     "name": "stdout",
     "output_type": "stream",
     "text": [
      "<urlopen error [Errno 111] Connection refused>\n"
     ]
    }
   ],
   "source": [
    "configuration_root_iri = \"\"\"http://example.com/tutorial2/description/components#orbiter-spacecraft\"\"\"\n",
    "\n",
    "query_string = \"\"\"\n",
    "PREFIX mission:     <http://imce.jpl.nasa.gov/foundation/mission#>\n",
    "PREFIX base:        <http://imce.jpl.nasa.gov/foundation/base#>\n",
    "PREFIX project:     <http://imce.jpl.nasa.gov/foundation/project#>\n",
    "PREFIX vim4:\t\t<http://bipm.org/jcgm/vim4#>\n",
    "\n",
    "SELECT DISTINCT ?c1 ?c1_instancename ?c1_id ?c1_name ?c1_mass ?c2 ?c2_instancename ?c2_id ?c2_name ?c2_mass ?c3 ?c3_instancename ?c3_id ?c3_name ?c4\n",
    "WHERE {\n",
    "\n",
    "  VALUES ?c1 { <$configuration_root_iri> }\n",
    "\n",
    "\n",
    "   OPTIONAL{ \n",
    "    ?c1 base:hasIdentifier ?c1_id ;\n",
    "      base:hasCanonicalName ?c1_name ;\n",
    "  }\n",
    " \tOPTIONAL {\n",
    "\t\t?c1_mass_mag vim4:characterizes ?c1 ;\n",
    "\t\t\tvim4:hasDoubleNumber ?c1_mass .\n",
    "\t} \n",
    "  OPTIONAL{\n",
    "    ?c1 base:contains ?c2 ;\n",
    "    OPTIONAL{\n",
    "      ?c2 base:hasIdentifier ?c2_id ;\n",
    "          base:hasCanonicalName ?c2_name .\n",
    "    }\n",
    " \tOPTIONAL {\n",
    "\t\t?c2_mass_mag vim4:characterizes ?c2 ;\n",
    "\t\t\tvim4:hasDoubleNumber ?c2_mass .\n",
    "\t}     \n",
    "    OPTIONAL{\n",
    "      ?c2 project:isSuppliedBy ?c3 ;\n",
    "          OPTIONAL{\n",
    "            ?c3 base:hasIdentifier ?c3_id ;\n",
    "                base:hasCanonicalName ?c3_name;\n",
    "                project:isAuthorizedBy ?c4 .\n",
    "          }          \n",
    "    }    \n",
    "  }\n",
    "\n",
    "\n",
    "  BIND(STRAFTER(STR(?c1), \"#\") AS ?c1_instancename) .\n",
    "  BIND(STRAFTER(STR(?c2), \"#\") AS ?c2_instancename) .\n",
    "  BIND(STRAFTER(STR(?c3), \"#\") AS ?c3_instancename) .\n",
    " }\n",
    "ORDER BY ?c2_id\n",
    "\n",
    "\"\"\"\n",
    "\n",
    "\n",
    "query_string = query_string.replace(\"$configuration_root_iri\", configuration_root_iri)\n",
    "\n",
    "sparql.setQuery(query_string)\n",
    "\n",
    "\n",
    "\n",
    "try:\n",
    "    ret = sparql.queryAndConvert()\n",
    "\n",
    "    for r in ret[\"results\"][\"bindings\"]:\n",
    "        print(r)\n",
    "except Exception as e:\n",
    "    print(e)"
   ]
  },
  {
   "cell_type": "markdown",
   "metadata": {},
   "source": [
    "### Tidy Data"
   ]
  },
  {
   "cell_type": "code",
   "execution_count": 5,
   "metadata": {},
   "outputs": [],
   "source": [
    "# Convert JSON Dictionary to Pandas dataframe\n",
    "df_query = pd.json_normalize(ret[\"results\"][\"bindings\"])\n",
    "#print(df[\"c2_name.value\"], df[\"c2_mass.value\"])\n",
    "#print(df[\"c2_name.value\"][1], df[\"c2_mass.value\"][1])"
   ]
  },
  {
   "cell_type": "markdown",
   "metadata": {},
   "source": [
    "## Binding Variables: to Python Parameter Table\n",
    "\n",
    "### SPARQL CODE"
   ]
  },
  {
   "cell_type": "code",
   "execution_count": 6,
   "metadata": {},
   "outputs": [
    {
     "name": "stdout",
     "output_type": "stream",
     "text": [
      "{'iri': {'type': 'uri', 'value': 'http://example.com/tutorial2/description/statedictionary#orbiter-spacecraft.delta-v'}, 'statevariable': {'type': 'literal', 'value': 'orbiter-spacecraft.delta-v'}}\n",
      "{'iri': {'type': 'uri', 'value': 'http://example.com/tutorial2/description/statedictionary#orbiter-spacecraft.initial-orbit'}, 'statevariable': {'type': 'literal', 'value': 'orbiter-spacecraft.initial-orbit'}, 'value': {'type': 'literal', 'value': '400'}}\n",
      "{'iri': {'type': 'uri', 'value': 'http://example.com/tutorial2/description/statedictionary#orbiter-spacecraft.isp'}, 'statevariable': {'type': 'literal', 'value': 'orbiter-spacecraft.isp'}, 'value': {'type': 'literal', 'value': '350'}}\n",
      "{'iri': {'type': 'uri', 'value': 'http://example.com/tutorial2/description/statedictionary#orbiter-spacecraft.mass.dry'}, 'statevariable': {'type': 'literal', 'value': 'orbiter-spacecraft.mass.dry'}}\n",
      "{'iri': {'type': 'uri', 'value': 'http://example.com/tutorial2/description/statedictionary#orbiter-spacecraft.mass.fuel'}, 'statevariable': {'type': 'literal', 'value': 'orbiter-spacecraft.mass.fuel'}}\n",
      "{'iri': {'type': 'uri', 'value': 'http://example.com/tutorial2/description/statedictionary#orbiter-spacecraft.mass.wet'}, 'statevariable': {'type': 'literal', 'value': 'orbiter-spacecraft.mass.wet'}}\n",
      "{'iri': {'type': 'uri', 'value': 'http://example.com/tutorial2/description/statedictionary#orbiter-spacecraft.target-orbit'}, 'statevariable': {'type': 'literal', 'value': 'orbiter-spacecraft.target-orbit'}, 'value': {'type': 'literal', 'value': '35786'}}\n"
     ]
    }
   ],
   "source": [
    "\n",
    "query_string = \"\"\"\n",
    "PREFIX base:        <http://imce.jpl.nasa.gov/foundation/base#>\n",
    "PREFIX mission:        <http://imce.jpl.nasa.gov/foundation/mission#>\n",
    "PREFIX analysis:        <http://imce.jpl.nasa.gov/foundation/analysis#>\n",
    "PREFIX sa:        <http://example.com/tutorial2/vocabulary/stateanalysis#>\n",
    "\n",
    "SELECT DISTINCT ?iri ?statevariable ?value\n",
    "WHERE {\n",
    "\n",
    "#  VALUES ?analysisTarget {<http://example.com/tutorial2/description/statedictionary#orbiter-spacecraft.delta-v>}\n",
    "   VALUES ?analysisTarget {<http://example.com/tutorial2/description/statedictionary#orbiter-spacecraft.mass.wet>}\n",
    "  VALUES ?componentType { sa:StateVariable }\n",
    "  VALUES ?relationType { sa:isAffectedBy }\n",
    "\n",
    "  #\tRecursive Query to get state variables\n",
    "  ?analysisTarget sa:isAffectedBy* ?iri ;\n",
    "#  ?iri a ?componentType\n",
    "  \n",
    "  OPTIONAL{\n",
    "    ?iri sa:hasStateValue ?value;\n",
    "         }\n",
    "\n",
    "\n",
    "\n",
    "  BIND(STRAFTER(STR(?iri), \"#\") AS ?statevariable) .\n",
    "  BIND(STRAFTER(STR(?targetIri), \"#\") AS ?target) .\n",
    "  BIND(STRAFTER(STR(?cpIri), \"#\") AS ?component) .\n",
    " }\n",
    "ORDER BY ?iri\n",
    "\"\"\"\n",
    "\n",
    "\n",
    "sparql.setQuery(query_string)\n",
    "\n",
    "\n",
    "\n",
    "try:\n",
    "    ret = sparql.queryAndConvert()\n",
    "\n",
    "    for r in ret[\"results\"][\"bindings\"]:\n",
    "        print(r)\n",
    "except Exception as e:\n",
    "    print(e)\n",
    "\n",
    "\n",
    "\n",
    "df_query_param = pd.json_normalize(ret[\"results\"][\"bindings\"])"
   ]
  },
  {
   "cell_type": "markdown",
   "metadata": {},
   "source": [
    "### Binding to Pandas Dataframe\n"
   ]
  },
  {
   "cell_type": "code",
   "execution_count": 7,
   "metadata": {},
   "outputs": [
    {
     "name": "stderr",
     "output_type": "stream",
     "text": [
      "/tmp/ipykernel_11643/3073877374.py:17: SettingWithCopyWarning: \n",
      "A value is trying to be set on a copy of a slice from a DataFrame.\n",
      "Try using .loc[row_indexer,col_indexer] = value instead\n",
      "\n",
      "See the caveats in the documentation: https://pandas.pydata.org/pandas-docs/stable/user_guide/indexing.html#returning-a-view-versus-a-copy\n",
      "  df_parameters[\"index\"]= 0\n"
     ]
    }
   ],
   "source": [
    "mapping = [[\"dv\", \"orbiter-spacecraft.delta-v\"],\n",
    "  [\"initOrbit\", \"orbiter-spacecraft.initial-orbit\"],\n",
    "  [\"I_sp\",\"orbiter-spacecraft.isp\"],\n",
    "  [\"m_dry\",\"orbiter-spacecraft.mass.dry\"],     \n",
    "  [\"m_fuel\",\"orbiter-spacecraft.mass.fuel\"],\n",
    "  [\"m_wet\",\"orbiter-spacecraft.mass.wet\"],\n",
    "  [\"targetOrbit\",\"orbiter-spacecraft.target-orbit\"]\n",
    "]\n",
    "\n",
    "column_names = [\"parameter\", \"statevariable.value\"]\n",
    "mapping_df = pd.DataFrame(mapping, columns=column_names)\n",
    "merged_df = pd.merge(df_query_param, mapping_df, left_on='statevariable.value', right_on='statevariable.value', how='left')\n",
    "\n",
    "df_parameters = merged_df[['iri.value','statevariable.value','value.value','parameter']]\n",
    "df_parameters.columns = [\"iri\", \"statevariable\", \"value\", \"parameter\"]\n",
    "\n",
    "df_parameters[\"index\"]= 0"
   ]
  },
  {
   "cell_type": "code",
   "execution_count": 8,
   "metadata": {},
   "outputs": [
    {
     "data": {
      "text/html": [
       "<div>\n",
       "<style scoped>\n",
       "    .dataframe tbody tr th:only-of-type {\n",
       "        vertical-align: middle;\n",
       "    }\n",
       "\n",
       "    .dataframe tbody tr th {\n",
       "        vertical-align: top;\n",
       "    }\n",
       "\n",
       "    .dataframe thead th {\n",
       "        text-align: right;\n",
       "    }\n",
       "</style>\n",
       "<table border=\"1\" class=\"dataframe\">\n",
       "  <thead>\n",
       "    <tr style=\"text-align: right;\">\n",
       "      <th></th>\n",
       "      <th>iri</th>\n",
       "      <th>statevariable</th>\n",
       "      <th>value</th>\n",
       "      <th>parameter</th>\n",
       "      <th>index</th>\n",
       "    </tr>\n",
       "  </thead>\n",
       "  <tbody>\n",
       "    <tr>\n",
       "      <th>0</th>\n",
       "      <td>http://example.com/tutorial2/description/state...</td>\n",
       "      <td>orbiter-spacecraft.delta-v</td>\n",
       "      <td>NaN</td>\n",
       "      <td>dv</td>\n",
       "      <td>0</td>\n",
       "    </tr>\n",
       "    <tr>\n",
       "      <th>1</th>\n",
       "      <td>http://example.com/tutorial2/description/state...</td>\n",
       "      <td>orbiter-spacecraft.initial-orbit</td>\n",
       "      <td>400</td>\n",
       "      <td>initOrbit</td>\n",
       "      <td>0</td>\n",
       "    </tr>\n",
       "    <tr>\n",
       "      <th>2</th>\n",
       "      <td>http://example.com/tutorial2/description/state...</td>\n",
       "      <td>orbiter-spacecraft.isp</td>\n",
       "      <td>350</td>\n",
       "      <td>I_sp</td>\n",
       "      <td>0</td>\n",
       "    </tr>\n",
       "    <tr>\n",
       "      <th>3</th>\n",
       "      <td>http://example.com/tutorial2/description/state...</td>\n",
       "      <td>orbiter-spacecraft.mass.dry</td>\n",
       "      <td>NaN</td>\n",
       "      <td>m_dry</td>\n",
       "      <td>0</td>\n",
       "    </tr>\n",
       "    <tr>\n",
       "      <th>4</th>\n",
       "      <td>http://example.com/tutorial2/description/state...</td>\n",
       "      <td>orbiter-spacecraft.mass.fuel</td>\n",
       "      <td>NaN</td>\n",
       "      <td>m_fuel</td>\n",
       "      <td>0</td>\n",
       "    </tr>\n",
       "    <tr>\n",
       "      <th>5</th>\n",
       "      <td>http://example.com/tutorial2/description/state...</td>\n",
       "      <td>orbiter-spacecraft.mass.wet</td>\n",
       "      <td>NaN</td>\n",
       "      <td>m_wet</td>\n",
       "      <td>0</td>\n",
       "    </tr>\n",
       "    <tr>\n",
       "      <th>6</th>\n",
       "      <td>http://example.com/tutorial2/description/state...</td>\n",
       "      <td>orbiter-spacecraft.target-orbit</td>\n",
       "      <td>35786</td>\n",
       "      <td>targetOrbit</td>\n",
       "      <td>0</td>\n",
       "    </tr>\n",
       "  </tbody>\n",
       "</table>\n",
       "</div>"
      ],
      "text/plain": [
       "                                                 iri  \\\n",
       "0  http://example.com/tutorial2/description/state...   \n",
       "1  http://example.com/tutorial2/description/state...   \n",
       "2  http://example.com/tutorial2/description/state...   \n",
       "3  http://example.com/tutorial2/description/state...   \n",
       "4  http://example.com/tutorial2/description/state...   \n",
       "5  http://example.com/tutorial2/description/state...   \n",
       "6  http://example.com/tutorial2/description/state...   \n",
       "\n",
       "                      statevariable  value    parameter  index  \n",
       "0        orbiter-spacecraft.delta-v    NaN           dv      0  \n",
       "1  orbiter-spacecraft.initial-orbit    400    initOrbit      0  \n",
       "2            orbiter-spacecraft.isp    350         I_sp      0  \n",
       "3       orbiter-spacecraft.mass.dry    NaN        m_dry      0  \n",
       "4      orbiter-spacecraft.mass.fuel    NaN       m_fuel      0  \n",
       "5       orbiter-spacecraft.mass.wet    NaN        m_wet      0  \n",
       "6   orbiter-spacecraft.target-orbit  35786  targetOrbit      0  "
      ]
     },
     "execution_count": 8,
     "metadata": {},
     "output_type": "execute_result"
    }
   ],
   "source": [
    "df_parameters\n"
   ]
  },
  {
   "cell_type": "code",
   "execution_count": 9,
   "metadata": {},
   "outputs": [],
   "source": [
    "df_parameters_before = df_parameters\n",
    "df_parameters = df_parameters.pivot(index=\"index\", columns=\"parameter\", values=[\"value\"])\n",
    "df_parameters = df_parameters.reset_index(drop=True)\n",
    "df_parameters = df_parameters[\"value\"]"
   ]
  },
  {
   "cell_type": "code",
   "execution_count": 10,
   "metadata": {},
   "outputs": [
    {
     "data": {
      "text/html": [
       "<div>\n",
       "<style scoped>\n",
       "    .dataframe tbody tr th:only-of-type {\n",
       "        vertical-align: middle;\n",
       "    }\n",
       "\n",
       "    .dataframe tbody tr th {\n",
       "        vertical-align: top;\n",
       "    }\n",
       "\n",
       "    .dataframe thead th {\n",
       "        text-align: right;\n",
       "    }\n",
       "</style>\n",
       "<table border=\"1\" class=\"dataframe\">\n",
       "  <thead>\n",
       "    <tr style=\"text-align: right;\">\n",
       "      <th>parameter</th>\n",
       "      <th>I_sp</th>\n",
       "      <th>dv</th>\n",
       "      <th>initOrbit</th>\n",
       "      <th>m_dry</th>\n",
       "      <th>m_fuel</th>\n",
       "      <th>m_wet</th>\n",
       "      <th>targetOrbit</th>\n",
       "    </tr>\n",
       "  </thead>\n",
       "  <tbody>\n",
       "    <tr>\n",
       "      <th>0</th>\n",
       "      <td>350</td>\n",
       "      <td>NaN</td>\n",
       "      <td>400</td>\n",
       "      <td>NaN</td>\n",
       "      <td>NaN</td>\n",
       "      <td>NaN</td>\n",
       "      <td>35786</td>\n",
       "    </tr>\n",
       "  </tbody>\n",
       "</table>\n",
       "</div>"
      ],
      "text/plain": [
       "parameter I_sp   dv initOrbit m_dry m_fuel m_wet targetOrbit\n",
       "0          350  NaN       400   NaN    NaN   NaN       35786"
      ]
     },
     "execution_count": 10,
     "metadata": {},
     "output_type": "execute_result"
    }
   ],
   "source": [
    "df_parameters\n",
    "# df_parameters[\"I_sp\"]"
   ]
  },
  {
   "cell_type": "markdown",
   "metadata": {},
   "source": [
    "## MassRollUp\n"
   ]
  },
  {
   "cell_type": "code",
   "execution_count": 11,
   "metadata": {},
   "outputs": [],
   "source": [
    "import rpy2\n"
   ]
  },
  {
   "cell_type": "markdown",
   "metadata": {},
   "source": [
    "### Load “R magic” extension\n",
    "From now on, code cells starting with %%R will see their content evaluated as R code"
   ]
  },
  {
   "cell_type": "code",
   "execution_count": 12,
   "metadata": {},
   "outputs": [],
   "source": [
    "%load_ext rpy2.ipython\n"
   ]
  },
  {
   "cell_type": "markdown",
   "metadata": {},
   "source": [
    "### Setup R "
   ]
  },
  {
   "cell_type": "code",
   "execution_count": 13,
   "metadata": {},
   "outputs": [
    {
     "name": "stdout",
     "output_type": "stream",
     "text": [
      "Error in library(reactable) : there is no package called ‘reactable’\n"
     ]
    },
    {
     "ename": "RInterpreterError",
     "evalue": "Failed to parse and evaluate line '\\nlibrary(reactable)\\nlibrary(stringr)\\n\\nsearchDirectory <- function(iteration, pattern, parent_directory){\\n  for(i in 1:iteration){\\n      path <- list.files(parent_directory, recursive = TRUE, pattern = pattern, full.names = TRUE)\\n      if(length(path)){\\n        return(path)\\n      }\\n      parent_directory <- dirname(parent_directory)\\n  }\\n  print(\"file not found\")\\n  return(path)\\n}\\n\\nsource(searchDirectory(4, \"osr_common.R\", (getwd())))\\nsource(searchDirectory(4, \"massRollupKepler16b.R\", (getwd())))\\n'.\nR error message: 'Error in library(reactable) : there is no package called ‘reactable’'",
     "output_type": "error",
     "traceback": [
      "\u001b[0;31m---------------------------------------------------------------------------\u001b[0m",
      "\u001b[0;31mRRuntimeError\u001b[0m                             Traceback (most recent call last)",
      "File \u001b[0;32m/opt/conda/envs/py39/lib/python3.9/site-packages/rpy2/ipython/rmagic.py:407\u001b[0m, in \u001b[0;36mRMagics.eval\u001b[0;34m(self, code)\u001b[0m\n\u001b[1;32m    406\u001b[0m     r_expr \u001b[38;5;241m=\u001b[39m ri\u001b[38;5;241m.\u001b[39mparse(code)\n\u001b[0;32m--> 407\u001b[0m     value, visible \u001b[38;5;241m=\u001b[39m \u001b[43mri\u001b[49m\u001b[38;5;241;43m.\u001b[39;49m\u001b[43mevalr_expr_with_visible\u001b[49m\u001b[43m(\u001b[49m\n\u001b[1;32m    408\u001b[0m \u001b[43m        \u001b[49m\u001b[43mr_expr\u001b[49m\n\u001b[1;32m    409\u001b[0m \u001b[43m    \u001b[49m\u001b[43m)\u001b[49m\n\u001b[1;32m    410\u001b[0m \u001b[38;5;28;01mexcept\u001b[39;00m (ri\u001b[38;5;241m.\u001b[39membedded\u001b[38;5;241m.\u001b[39mRRuntimeError, \u001b[38;5;167;01mValueError\u001b[39;00m) \u001b[38;5;28;01mas\u001b[39;00m exception:\n\u001b[1;32m    411\u001b[0m     \u001b[38;5;66;03m# Otherwise next return seems to have copy of error.\u001b[39;00m\n",
      "File \u001b[0;32m/opt/conda/envs/py39/lib/python3.9/site-packages/rpy2/rinterface.py:192\u001b[0m, in \u001b[0;36mevalr_expr_with_visible\u001b[0;34m(expr, envir)\u001b[0m\n\u001b[1;32m    191\u001b[0m \u001b[38;5;28;01mif\u001b[39;00m error_occured[\u001b[38;5;241m0\u001b[39m]:\n\u001b[0;32m--> 192\u001b[0m     \u001b[38;5;28;01mraise\u001b[39;00m embedded\u001b[38;5;241m.\u001b[39mRRuntimeError(_rinterface\u001b[38;5;241m.\u001b[39m_geterrmessage())\n\u001b[1;32m    193\u001b[0m res \u001b[38;5;241m=\u001b[39m conversion\u001b[38;5;241m.\u001b[39m_cdata_to_rinterface(r_res)\n",
      "\u001b[0;31mRRuntimeError\u001b[0m: Error in library(reactable) : there is no package called ‘reactable’\n",
      "\nDuring handling of the above exception, another exception occurred:\n",
      "\u001b[0;31mRInterpreterError\u001b[0m                         Traceback (most recent call last)",
      "Cell \u001b[0;32mIn[13], line 1\u001b[0m\n\u001b[0;32m----> 1\u001b[0m \u001b[43mget_ipython\u001b[49m\u001b[43m(\u001b[49m\u001b[43m)\u001b[49m\u001b[38;5;241;43m.\u001b[39;49m\u001b[43mrun_cell_magic\u001b[49m\u001b[43m(\u001b[49m\u001b[38;5;124;43m'\u001b[39;49m\u001b[38;5;124;43mR\u001b[39;49m\u001b[38;5;124;43m'\u001b[39;49m\u001b[43m,\u001b[49m\u001b[43m \u001b[49m\u001b[38;5;124;43m'\u001b[39;49m\u001b[38;5;124;43m'\u001b[39;49m\u001b[43m,\u001b[49m\u001b[43m \u001b[49m\u001b[38;5;124;43m'\u001b[39;49m\u001b[38;5;130;43;01m\\n\u001b[39;49;00m\u001b[38;5;124;43mlibrary(reactable)\u001b[39;49m\u001b[38;5;130;43;01m\\n\u001b[39;49;00m\u001b[38;5;124;43mlibrary(stringr)\u001b[39;49m\u001b[38;5;130;43;01m\\n\u001b[39;49;00m\u001b[38;5;130;43;01m\\n\u001b[39;49;00m\u001b[38;5;124;43msearchDirectory <- function(iteration, pattern, parent_directory)\u001b[39;49m\u001b[38;5;124;43m{\u001b[39;49m\u001b[38;5;130;43;01m\\n\u001b[39;49;00m\u001b[38;5;124;43m  for(i in 1:iteration)\u001b[39;49m\u001b[38;5;124;43m{\u001b[39;49m\u001b[38;5;130;43;01m\\n\u001b[39;49;00m\u001b[38;5;124;43m      path <- list.files(parent_directory, recursive = TRUE, pattern = pattern, full.names = TRUE)\u001b[39;49m\u001b[38;5;130;43;01m\\n\u001b[39;49;00m\u001b[38;5;124;43m      if(length(path))\u001b[39;49m\u001b[38;5;124;43m{\u001b[39;49m\u001b[38;5;130;43;01m\\n\u001b[39;49;00m\u001b[38;5;124;43m        return(path)\u001b[39;49m\u001b[38;5;130;43;01m\\n\u001b[39;49;00m\u001b[38;5;124;43m      }\u001b[39;49m\u001b[38;5;130;43;01m\\n\u001b[39;49;00m\u001b[38;5;124;43m      parent_directory <- dirname(parent_directory)\u001b[39;49m\u001b[38;5;130;43;01m\\n\u001b[39;49;00m\u001b[38;5;124;43m  }\u001b[39;49m\u001b[38;5;130;43;01m\\n\u001b[39;49;00m\u001b[38;5;124;43m  print(\u001b[39;49m\u001b[38;5;124;43m\"\u001b[39;49m\u001b[38;5;124;43mfile not found\u001b[39;49m\u001b[38;5;124;43m\"\u001b[39;49m\u001b[38;5;124;43m)\u001b[39;49m\u001b[38;5;130;43;01m\\n\u001b[39;49;00m\u001b[38;5;124;43m  return(path)\u001b[39;49m\u001b[38;5;130;43;01m\\n\u001b[39;49;00m\u001b[38;5;124;43m}\u001b[39;49m\u001b[38;5;130;43;01m\\n\u001b[39;49;00m\u001b[38;5;130;43;01m\\n\u001b[39;49;00m\u001b[38;5;124;43msource(searchDirectory(4, \u001b[39;49m\u001b[38;5;124;43m\"\u001b[39;49m\u001b[38;5;124;43mosr_common.R\u001b[39;49m\u001b[38;5;124;43m\"\u001b[39;49m\u001b[38;5;124;43m, (getwd())))\u001b[39;49m\u001b[38;5;130;43;01m\\n\u001b[39;49;00m\u001b[38;5;124;43msource(searchDirectory(4, \u001b[39;49m\u001b[38;5;124;43m\"\u001b[39;49m\u001b[38;5;124;43mmassRollupKepler16b.R\u001b[39;49m\u001b[38;5;124;43m\"\u001b[39;49m\u001b[38;5;124;43m, (getwd())))\u001b[39;49m\u001b[38;5;130;43;01m\\n\u001b[39;49;00m\u001b[38;5;124;43m'\u001b[39;49m\u001b[43m)\u001b[49m\n",
      "File \u001b[0;32m/opt/conda/envs/py39/lib/python3.9/site-packages/IPython/core/interactiveshell.py:2517\u001b[0m, in \u001b[0;36mInteractiveShell.run_cell_magic\u001b[0;34m(self, magic_name, line, cell)\u001b[0m\n\u001b[1;32m   2515\u001b[0m \u001b[38;5;28;01mwith\u001b[39;00m \u001b[38;5;28mself\u001b[39m\u001b[38;5;241m.\u001b[39mbuiltin_trap:\n\u001b[1;32m   2516\u001b[0m     args \u001b[38;5;241m=\u001b[39m (magic_arg_s, cell)\n\u001b[0;32m-> 2517\u001b[0m     result \u001b[38;5;241m=\u001b[39m \u001b[43mfn\u001b[49m\u001b[43m(\u001b[49m\u001b[38;5;241;43m*\u001b[39;49m\u001b[43margs\u001b[49m\u001b[43m,\u001b[49m\u001b[43m \u001b[49m\u001b[38;5;241;43m*\u001b[39;49m\u001b[38;5;241;43m*\u001b[39;49m\u001b[43mkwargs\u001b[49m\u001b[43m)\u001b[49m\n\u001b[1;32m   2519\u001b[0m \u001b[38;5;66;03m# The code below prevents the output from being displayed\u001b[39;00m\n\u001b[1;32m   2520\u001b[0m \u001b[38;5;66;03m# when using magics with decorator @output_can_be_silenced\u001b[39;00m\n\u001b[1;32m   2521\u001b[0m \u001b[38;5;66;03m# when the last Python token in the expression is a ';'.\u001b[39;00m\n\u001b[1;32m   2522\u001b[0m \u001b[38;5;28;01mif\u001b[39;00m \u001b[38;5;28mgetattr\u001b[39m(fn, magic\u001b[38;5;241m.\u001b[39mMAGIC_OUTPUT_CAN_BE_SILENCED, \u001b[38;5;28;01mFalse\u001b[39;00m):\n",
      "File \u001b[0;32m/opt/conda/envs/py39/lib/python3.9/site-packages/rpy2/ipython/rmagic.py:984\u001b[0m, in \u001b[0;36mRMagics.R\u001b[0;34m(self, line, cell, local_ns)\u001b[0m\n\u001b[1;32m    982\u001b[0m     \u001b[38;5;28;01mif\u001b[39;00m \u001b[38;5;129;01mnot\u001b[39;00m e\u001b[38;5;241m.\u001b[39mstdout\u001b[38;5;241m.\u001b[39mendswith(e\u001b[38;5;241m.\u001b[39merr):\n\u001b[1;32m    983\u001b[0m         \u001b[38;5;28mprint\u001b[39m(e\u001b[38;5;241m.\u001b[39merr)\n\u001b[0;32m--> 984\u001b[0m     \u001b[38;5;28;01mraise\u001b[39;00m e\n\u001b[1;32m    985\u001b[0m \u001b[38;5;28;01mfinally\u001b[39;00m:\n\u001b[1;32m    986\u001b[0m     \u001b[38;5;28;01mif\u001b[39;00m \u001b[38;5;28mself\u001b[39m\u001b[38;5;241m.\u001b[39mdevice \u001b[38;5;129;01min\u001b[39;00m DEVICES_STATIC:\n",
      "File \u001b[0;32m/opt/conda/envs/py39/lib/python3.9/site-packages/rpy2/ipython/rmagic.py:949\u001b[0m, in \u001b[0;36mRMagics.R\u001b[0;34m(self, line, cell, local_ns)\u001b[0m\n\u001b[1;32m    947\u001b[0m         return_output \u001b[38;5;241m=\u001b[39m \u001b[38;5;28;01mFalse\u001b[39;00m\n\u001b[1;32m    948\u001b[0m \u001b[38;5;28;01melse\u001b[39;00m:\n\u001b[0;32m--> 949\u001b[0m     text_result, result, visible \u001b[38;5;241m=\u001b[39m \u001b[38;5;28;43mself\u001b[39;49m\u001b[38;5;241;43m.\u001b[39;49m\u001b[43meval\u001b[49m\u001b[43m(\u001b[49m\u001b[43mcode\u001b[49m\u001b[43m)\u001b[49m\n\u001b[1;32m    950\u001b[0m     text_output \u001b[38;5;241m+\u001b[39m\u001b[38;5;241m=\u001b[39m text_result\n\u001b[1;32m    951\u001b[0m     \u001b[38;5;28;01mif\u001b[39;00m visible:\n",
      "File \u001b[0;32m/opt/conda/envs/py39/lib/python3.9/site-packages/rpy2/ipython/rmagic.py:413\u001b[0m, in \u001b[0;36mRMagics.eval\u001b[0;34m(self, code)\u001b[0m\n\u001b[1;32m    410\u001b[0m \u001b[38;5;28;01mexcept\u001b[39;00m (ri\u001b[38;5;241m.\u001b[39membedded\u001b[38;5;241m.\u001b[39mRRuntimeError, \u001b[38;5;167;01mValueError\u001b[39;00m) \u001b[38;5;28;01mas\u001b[39;00m exception:\n\u001b[1;32m    411\u001b[0m     \u001b[38;5;66;03m# Otherwise next return seems to have copy of error.\u001b[39;00m\n\u001b[1;32m    412\u001b[0m     warning_or_other_msg \u001b[38;5;241m=\u001b[39m \u001b[38;5;28mself\u001b[39m\u001b[38;5;241m.\u001b[39mflush()\n\u001b[0;32m--> 413\u001b[0m     \u001b[38;5;28;01mraise\u001b[39;00m RInterpreterError(code, \u001b[38;5;28mstr\u001b[39m(exception),\n\u001b[1;32m    414\u001b[0m                             warning_or_other_msg)\n\u001b[1;32m    415\u001b[0m \u001b[38;5;28;01mfinally\u001b[39;00m:\n\u001b[1;32m    416\u001b[0m     ro\u001b[38;5;241m.\u001b[39m_print_deferred_warnings()\n",
      "\u001b[0;31mRInterpreterError\u001b[0m: Failed to parse and evaluate line '\\nlibrary(reactable)\\nlibrary(stringr)\\n\\nsearchDirectory <- function(iteration, pattern, parent_directory){\\n  for(i in 1:iteration){\\n      path <- list.files(parent_directory, recursive = TRUE, pattern = pattern, full.names = TRUE)\\n      if(length(path)){\\n        return(path)\\n      }\\n      parent_directory <- dirname(parent_directory)\\n  }\\n  print(\"file not found\")\\n  return(path)\\n}\\n\\nsource(searchDirectory(4, \"osr_common.R\", (getwd())))\\nsource(searchDirectory(4, \"massRollupKepler16b.R\", (getwd())))\\n'.\nR error message: 'Error in library(reactable) : there is no package called ‘reactable’'"
     ]
    }
   ],
   "source": [
    "%%R\n",
    "\n",
    "library(reactable)\n",
    "library(stringr)\n",
    "\n",
    "searchDirectory <- function(iteration, pattern, parent_directory){\n",
    "  for(i in 1:iteration){\n",
    "      path <- list.files(parent_directory, recursive = TRUE, pattern = pattern, full.names = TRUE)\n",
    "      if(length(path)){\n",
    "        return(path)\n",
    "      }\n",
    "      parent_directory <- dirname(parent_directory)\n",
    "  }\n",
    "  print(\"file not found\")\n",
    "  return(path)\n",
    "}\n",
    "\n",
    "source(searchDirectory(4, \"osr_common.R\", (getwd())))\n",
    "source(searchDirectory(4, \"massRollupKepler16b.R\", (getwd())))\n"
   ]
  },
  {
   "cell_type": "markdown",
   "metadata": {},
   "source": [
    "### Binding Variables : toR"
   ]
  },
  {
   "cell_type": "markdown",
   "metadata": {},
   "source": [
    "query results of the system configurations"
   ]
  },
  {
   "cell_type": "code",
   "execution_count": 12,
   "metadata": {},
   "outputs": [
    {
     "name": "stdout",
     "output_type": "stream",
     "text": [
      "                                                                      c1\n",
      "1 http://example.com/tutorial2/description/components#orbiter-spacecraft\n",
      "2 http://example.com/tutorial2/description/components#orbiter-spacecraft\n",
      "3 http://example.com/tutorial2/description/components#orbiter-spacecraft\n",
      "4 http://example.com/tutorial2/description/components#orbiter-spacecraft\n",
      "5 http://example.com/tutorial2/description/components#orbiter-spacecraft\n",
      "6 http://example.com/tutorial2/description/components#orbiter-spacecraft\n",
      "7 http://example.com/tutorial2/description/components#orbiter-spacecraft\n",
      "8 http://example.com/tutorial2/description/components#orbiter-spacecraft\n",
      "9 http://example.com/tutorial2/description/components#orbiter-spacecraft\n",
      "     c1_instancename c1_id            c1_name c1_mass\n",
      "1 orbiter-spacecraft  C.02 Orbiter Spacecraft     0.0\n",
      "2 orbiter-spacecraft  C.02 Orbiter Spacecraft     0.0\n",
      "3 orbiter-spacecraft  C.02 Orbiter Spacecraft     0.0\n",
      "4 orbiter-spacecraft  C.02 Orbiter Spacecraft     0.0\n",
      "5 orbiter-spacecraft  C.02 Orbiter Spacecraft     0.0\n",
      "6 orbiter-spacecraft  C.02 Orbiter Spacecraft     0.0\n",
      "7 orbiter-spacecraft  C.02 Orbiter Spacecraft     0.0\n",
      "8 orbiter-spacecraft  C.02 Orbiter Spacecraft     0.0\n",
      "9 orbiter-spacecraft  C.02 Orbiter Spacecraft     0.0\n",
      "                                                                                                 c2\n",
      "1                       http://example.com/tutorial2/description/components#orbiter-power-subsystem\n",
      "2                               http://example.com/tutorial2/description/components#orbiter-harness\n",
      "3                     http://example.com/tutorial2/description/components#orbiter-thermal-subsystem\n",
      "4   http://example.com/tutorial2/description/components#orbiter-command-and-data-handling-subsystem\n",
      "5                     http://example.com/tutorial2/description/components#orbiter-telecom-subsystem\n",
      "6 http://example.com/tutorial2/description/components#orbiter-guidance-navigation-control-subsystem\n",
      "7                  http://example.com/tutorial2/description/components#orbiter-mechanical-subsystem\n",
      "8              http://example.com/tutorial2/description/components#orbiter-spacraft-flight-software\n",
      "9                  http://example.com/tutorial2/description/components#orbiter-propulsion-subsystem\n",
      "                                c2_instancename   c2_id\n",
      "1                       orbiter-power-subsystem C.02.01\n",
      "2                               orbiter-harness C.02.02\n",
      "3                     orbiter-thermal-subsystem C.02.03\n",
      "4   orbiter-command-and-data-handling-subsystem C.02.04\n",
      "5                     orbiter-telecom-subsystem C.02.05\n",
      "6 orbiter-guidance-navigation-control-subsystem C.02.06\n",
      "7                  orbiter-mechanical-subsystem C.02.07\n",
      "8              orbiter-spacraft-flight-software C.02.08\n",
      "9                  orbiter-propulsion-subsystem C.02.09\n",
      "                       c2_name c2_mass\n",
      "1      Orbiter Power Subsystem   297.0\n",
      "2              Orbiter Harness   138.0\n",
      "3    Orbiter Thermal Subsystem   307.0\n",
      "4       Orbiter C&DH Subsystem   147.0\n",
      "5    Orbiter Telecom Subsystem   316.0\n",
      "6       Orbiter GN&C Subsystem   156.0\n",
      "7 Orbiter Mechanical Subsystem   325.0\n",
      "8      Orbiter Flight Software   165.0\n",
      "9 Orbiter Propulsion Subsystem   106.0\n"
     ]
    }
   ],
   "source": [
    "%%R -i df_query\n",
    "\n",
    "# now we can use df_query from python as a dataframe in R\n",
    "\n",
    "# rename\n",
    "df_config <- data.frame(\n",
    "    c1 = df_query$c1.value,\n",
    "    c1_instancename = df_query$c1_instancename.value,\n",
    "    c1_id = df_query$c1_id.value,\n",
    "    c1_name = df_query$c1_name.value,\n",
    "    c1_mass = df_query$c1_mass.value,\n",
    "    c2 = df_query$c2.value,\n",
    "    c2_instancename = df_query$c2_instancename.value,\n",
    "    c2_id = df_query$c2_id.value,\n",
    "    c2_name = df_query$c2_name.value, \n",
    "    c2_mass = df_query$c2_mass.value\n",
    ")\n",
    "\n",
    "print(df_config)\n"
   ]
  },
  {
   "cell_type": "markdown",
   "metadata": {},
   "source": [
    "### Tidy Data and Visualize Decompositions"
   ]
  },
  {
   "cell_type": "code",
   "execution_count": 13,
   "metadata": {},
   "outputs": [],
   "source": [
    "%%R\n",
    "\n",
    "df_config <- df_config %>%\n",
    "  mutate(c2_label = paste0(c2_id,\": \",c2_instancename)) %>%\n",
    "  mutate(c1_label = paste0(c1_id,\": \",c1_instancename)) \n",
    "\n",
    "\n",
    "# just for vis add NA to root\n",
    "df_vis <- df_config %>%\n",
    "  add_row(c1=NA,\n",
    "          c1_instancename=NA,\n",
    "          c1_id=NA,\n",
    "          c1_name=NA,\n",
    "          c1_mass=NA,\n",
    "          c2=df_config$c1[1],\n",
    "          c2_instancename=df_config$c1_instancename[1],\n",
    "          c2_id=df_config$c1_id[1],\n",
    "          c2_name=df_config$c1_name[1],\n",
    "          c2_mass=df_config$c1_mass[1],\n",
    "          c1_type=df_config$c1_type[1],\n",
    "          c2_label=NA,\n",
    "          c1_label=df_config$c1_label[1],  \n",
    "          .before = 1)\n",
    "\n",
    "plotCollapsibleTreeFromDataframe(df_vis, palette=\"BluYl\", \n",
    "                                 parent=\"c2_label\",\n",
    "                                 child=\"c1_label\",\n",
    "                                 type=\"c2_id\")\n"
   ]
  },
  {
   "cell_type": "markdown",
   "metadata": {},
   "source": [
    "### Prepare a Graph Data for mass rollup calculation"
   ]
  },
  {
   "cell_type": "code",
   "execution_count": 14,
   "metadata": {},
   "outputs": [],
   "source": [
    "%%R\n",
    "\n",
    "library(igraph)\n",
    "\n",
    "df_g <- df_config %>%\n",
    "  mutate(parent = c1_instancename) %>%\n",
    "  mutate(child = c2_instancename) %>%\n",
    "  mutate(type = c2_instancename) %>%\n",
    "  # mutate(parent = paste0(p_id, \": \", p_instancename)) %>%\n",
    "  # mutate(child = paste0(c_id, \": \", c_instancename)) %>%  \n",
    "  select(\"parent\",\"child\",\"type\")\n",
    "\n",
    "# df_g <- df_g[-1,]\n",
    "\n",
    "g <- graph_from_data_frame(df_g, \n",
    "                           directed = TRUE, \n",
    "                           vertices = NULL)\n",
    "\n"
   ]
  },
  {
   "cell_type": "markdown",
   "metadata": {},
   "source": [
    "### RollUp Pattern"
   ]
  },
  {
   "cell_type": "code",
   "execution_count": 15,
   "metadata": {},
   "outputs": [],
   "source": [
    "%%R\n",
    "\n",
    "root <- V(g)[1]\n",
    "\n",
    "# Depth-first search is an algorithm to traverse a graph. It starts from a root vertex and tries to go quickly as far from as possible.\n",
    "order <- dfs(g, V(g)[root], order.out = TRUE)$order\n",
    "\n",
    "df_mel_before <- igraph::as_data_frame(g, what = \"vertices\") %>%\n",
    "  arrange(factor(name, levels = names(order)))%>%\n",
    "  filter(name !=\"NA\")\n",
    "\n",
    "# ここに、df_mass として massの値を入れたコンフィグを作る必要がある。\n",
    "\n",
    "df_mass <-  df_config\n",
    "\n",
    "df_mass <-  df_mass %>%\n",
    "  mutate(mass = as.numeric(c2_mass)) %>%\n",
    "  select(c2,\n",
    "         c2_instancename,\n",
    "         c2_id,\n",
    "         c2_name,\n",
    "         c1_id,\n",
    "         mass) %>%  \n",
    "  add_row(c2=df_mass$c1[1],\n",
    "          c2_instancename=df_mass$c1_instancename[1],\n",
    "          c2_id=df_mass$c1_id[1],\n",
    "          c2_name=df_mass$c1_name[1],\n",
    "          c1_id=NA,\n",
    "          mass=as.numeric(df_mass$c1_mass[1]),\n",
    "          .before = 1)%>%\n",
    "  arrange(c2_id)\n",
    "\n",
    "\n",
    "colnames(df_mass) <- c(\"c_iri\",\"c_instancename\",\"c_id\",\"c_name\", \"p_id\", \"mass\")\n",
    "\n",
    "df_mel_before <- left_join(df_mel_before, df_mass, by = c(\"name\"=\"c_instancename\"))\n"
   ]
  },
  {
   "cell_type": "code",
   "execution_count": 16,
   "metadata": {},
   "outputs": [],
   "source": [
    "%%R\n",
    "\n",
    "namekey=\"name\"\n",
    "masskey=\"mass\"\n",
    "\n",
    "\n",
    "df_mass_update <- massRollUp(g, root, df_mel_before, namekey = \"name\",masskey = \"mass\") %>%\n",
    "  select(name, mass)\n",
    "\n",
    "\n",
    "# リーフ数を取得\n",
    "df_deg <- data.frame(\n",
    "  name = names(degree(g)),\n",
    "  degree = degree(g)-1, # num of components is degree(g)-1\n",
    "  distance = distances(g)[V(g)[1],]\n",
    ")\n",
    "\n",
    "# distanceの値で、componentか、workpackageかを切り分けることができる\n",
    "\n",
    "df_mel_after <- df_mel_before %>% select(-mass)\n",
    "df_mel_after <- left_join(df_mel_after, df_mass_update, by=c(\"name\"=\"name\")) \n",
    "df_mel_after <- left_join(df_mel_after, df_deg, by=c(\"name\"=\"name\")) \n",
    "\n",
    "df_mel_after$componenttype <- ifelse(df_mel_after$distance == 0, \"system\", \n",
    "                            ifelse(df_mel_after$distance == 1, \"subsystem\", \n",
    "                                   ifelse(df_mel_after$distance == 2, \"assembly\", NA)))\n",
    "\n",
    "\n",
    "\n"
   ]
  },
  {
   "cell_type": "code",
   "execution_count": 17,
   "metadata": {},
   "outputs": [],
   "source": [
    "%%R\n",
    "\n",
    "df_table <- df_mel_after %>%\n",
    "  mutate(totalmass=mass) %>%\n",
    "  select(c_id, name, totalmass, componenttype) \n",
    "\n",
    "df_table$componenttype <- factor(df_table$componenttype)\n",
    "\n",
    "datatable(df_table, options = list(autoWidth = FALSE, pageLength = -1), filter = list(\n",
    "  position = 'top', clear = FALSE\n",
    "))"
   ]
  },
  {
   "cell_type": "markdown",
   "metadata": {},
   "source": [
    "## Binding Variables : toPython\n"
   ]
  },
  {
   "cell_type": "code",
   "execution_count": 18,
   "metadata": {},
   "outputs": [],
   "source": [
    "import rpy2.robjects as robjects\n",
    "# list(robjects.globalenv.keys())\n",
    "df_mel_after = robjects.globalenv['df_mel_after']\n",
    "#type(df_mel_after)\n",
    "#print(df_mel_after[5][0])\n",
    "df_parameters['m_dry'] = df_mel_after[5][0]"
   ]
  },
  {
   "cell_type": "markdown",
   "metadata": {},
   "source": [
    "## deltaV ( Using Python)"
   ]
  },
  {
   "cell_type": "markdown",
   "metadata": {},
   "source": [
    "### data bindings"
   ]
  },
  {
   "cell_type": "code",
   "execution_count": 19,
   "metadata": {},
   "outputs": [],
   "source": [
    "orbit_init=float(df_parameters['initOrbit'][0])\n",
    "orbit_target=float(df_parameters['targetOrbit'][0])\n"
   ]
  },
  {
   "cell_type": "markdown",
   "metadata": {},
   "source": [
    "### analysis"
   ]
  },
  {
   "cell_type": "code",
   "execution_count": 20,
   "metadata": {},
   "outputs": [
    {
     "name": "stdout",
     "output_type": "stream",
     "text": [
      "getcwd:       /Users/mlab/Workspaces/github/kepler16-using-imce-feat20/kepler16b-using-imce-vocabulary/src/analysis\n"
     ]
    },
    {
     "name": "stderr",
     "output_type": "stream",
     "text": [
      "/Users/mlab/opt/anaconda3/envs/py393/lib/python3.9/site-packages/poliastro/core/maneuver.py:49: NumbaPerformanceWarning: '@' is faster on contiguous arrays, called on (Array(float64, 1, 'A', False, aligned=True), Array(float64, 1, 'A', False, aligned=True))\n",
      "  r_i = norm(r_i)\n"
     ]
    },
    {
     "name": "stdout",
     "output_type": "stream",
     "text": [
      "Total delta-v: 3853.959363102248 m / s\n"
     ]
    }
   ],
   "source": [
    "import os\n",
    "import sys\n",
    "\n",
    "print('getcwd:      ', os.getcwd())\n",
    "sys.path.append(os.getcwd())\n",
    "sys.path.append(os.getcwd()+'/src/analysis')\n",
    "\n",
    "# from src.analysis import analysisOrbit\n",
    "import analysisOrbit\n",
    "from astropy import units as u\n",
    "\n",
    "analysisRocket = analysisOrbit.hohmanTransfer(orbit_init=orbit_init, orbit_target=orbit_target)\n",
    "# analysisRocket = analysisOrbit.hohmanTransfer(orbit_init=r.initOrbit, orbit_target=r.targetOrbit, m_init=r.m_dry, I_sp=r.I_sp)\n",
    "# analysisRocket = analysisOrbit.hohmanTransfer(orbit_init=400, orbit_target=35786, m_init=5000, I_sp=300)\n",
    "\n",
    "total_delta_v = analysisRocket.calculate_delta_v()\n",
    "\n",
    "\n",
    "print(f\"Total delta-v: {total_delta_v}\")\n"
   ]
  },
  {
   "cell_type": "markdown",
   "metadata": {},
   "source": [
    "## Binding Variables: to Python"
   ]
  },
  {
   "cell_type": "code",
   "execution_count": 21,
   "metadata": {},
   "outputs": [],
   "source": [
    "\n",
    "df_parameters['dv'] = total_delta_v /1000.0 # km/s\n"
   ]
  },
  {
   "cell_type": "markdown",
   "metadata": {},
   "source": [
    "## fuelMass (Using R)"
   ]
  },
  {
   "cell_type": "markdown",
   "metadata": {},
   "source": [
    "### Binding Variables: To R"
   ]
  },
  {
   "cell_type": "code",
   "execution_count": 22,
   "metadata": {},
   "outputs": [
    {
     "name": "stderr",
     "output_type": "stream",
     "text": [
      "/Users/mlab/opt/anaconda3/envs/py393/lib/python3.9/site-packages/rpy2/robjects/pandas2ri.py:65: UserWarning: Error while trying to convert the column \"m_fuel\". Fall back to string conversion. The error is: <class 'float'>\n",
      "  warnings.warn('Error while trying to convert '\n",
      "/Users/mlab/opt/anaconda3/envs/py393/lib/python3.9/site-packages/rpy2/robjects/pandas2ri.py:65: UserWarning: Error while trying to convert the column \"m_wet\". Fall back to string conversion. The error is: <class 'float'>\n",
      "  warnings.warn('Error while trying to convert '\n"
     ]
    }
   ],
   "source": [
    "%%R -i df_parameters\n",
    "\n",
    "dv <- as.numeric(df_parameters$dv)\n",
    "m_dry <- as.numeric(df_parameters$m_dry)\n",
    "I_sp <- as.numeric(df_parameters$I_sp)"
   ]
  },
  {
   "cell_type": "code",
   "execution_count": 23,
   "metadata": {},
   "outputs": [
    {
     "name": "stdout",
     "output_type": "stream",
     "text": [
      "[1] 1957.00 4055.68 6012.68\n"
     ]
    }
   ],
   "source": [
    "%%R\n",
    "\n",
    "source(searchDirectory(4, \"calcWetMass.R\", (getwd())))\n",
    "\n",
    "#print(df_parameters)\n",
    "\n",
    "\n",
    "m_wet <- calcWetMass(dv, m_dry, I_sp)\n",
    "m_fuel <- m_wet - m_dry\n",
    "c(m_dry, m_fuel, m_wet)\n"
   ]
  },
  {
   "cell_type": "markdown",
   "metadata": {},
   "source": [
    "### Binding Variables: to Python"
   ]
  },
  {
   "cell_type": "code",
   "execution_count": 24,
   "metadata": {},
   "outputs": [],
   "source": [
    "import rpy2.robjects as robjects\n",
    "# list(robjects.globalenv.keys())\n",
    "\n",
    "df_parameters['m_wet'] = robjects.globalenv['m_wet']\n",
    "df_parameters['m_fuel'] = robjects.globalenv['m_fuel']"
   ]
  },
  {
   "cell_type": "markdown",
   "metadata": {},
   "source": [
    "## Finally, Update OML"
   ]
  },
  {
   "cell_type": "markdown",
   "metadata": {},
   "source": [
    "### parameter table updated"
   ]
  },
  {
   "cell_type": "code",
   "execution_count": 25,
   "metadata": {},
   "outputs": [
    {
     "name": "stdout",
     "output_type": "stream",
     "text": [
      "parameter I_sp        dv initOrbit   m_dry       m_fuel        m_wet  \\\n",
      "0          350  3.853959       400  1957.0  4055.680381  6012.680381   \n",
      "\n",
      "parameter targetOrbit  \n",
      "0               35786  \n"
     ]
    }
   ],
   "source": [
    "print(df_parameters)"
   ]
  },
  {
   "cell_type": "markdown",
   "metadata": {},
   "source": [
    "### parameters before and after"
   ]
  },
  {
   "cell_type": "code",
   "execution_count": 26,
   "metadata": {},
   "outputs": [
    {
     "data": {
      "text/html": [
       "<div>\n",
       "<style scoped>\n",
       "    .dataframe tbody tr th:only-of-type {\n",
       "        vertical-align: middle;\n",
       "    }\n",
       "\n",
       "    .dataframe tbody tr th {\n",
       "        vertical-align: top;\n",
       "    }\n",
       "\n",
       "    .dataframe thead th {\n",
       "        text-align: right;\n",
       "    }\n",
       "</style>\n",
       "<table border=\"1\" class=\"dataframe\">\n",
       "  <thead>\n",
       "    <tr style=\"text-align: right;\">\n",
       "      <th>parameter</th>\n",
       "      <th>I_sp</th>\n",
       "      <th>dv</th>\n",
       "      <th>initOrbit</th>\n",
       "      <th>m_dry</th>\n",
       "      <th>m_fuel</th>\n",
       "      <th>m_wet</th>\n",
       "      <th>targetOrbit</th>\n",
       "    </tr>\n",
       "  </thead>\n",
       "  <tbody>\n",
       "    <tr>\n",
       "      <th>0</th>\n",
       "      <td>350</td>\n",
       "      <td>3.853959</td>\n",
       "      <td>400</td>\n",
       "      <td>1957.0</td>\n",
       "      <td>4055.680381</td>\n",
       "      <td>6012.680381</td>\n",
       "      <td>35786</td>\n",
       "    </tr>\n",
       "  </tbody>\n",
       "</table>\n",
       "</div>"
      ],
      "text/plain": [
       "parameter I_sp        dv initOrbit   m_dry       m_fuel        m_wet  \\\n",
       "0          350  3.853959       400  1957.0  4055.680381  6012.680381   \n",
       "\n",
       "parameter targetOrbit  \n",
       "0               35786  "
      ]
     },
     "execution_count": 26,
     "metadata": {},
     "output_type": "execute_result"
    }
   ],
   "source": [
    "df_parameters"
   ]
  },
  {
   "cell_type": "code",
   "execution_count": 27,
   "metadata": {},
   "outputs": [],
   "source": [
    "df_parameters_after = df_parameters.melt(var_name=\"parameter\", value_name=\"value_after\")"
   ]
  },
  {
   "cell_type": "code",
   "execution_count": 28,
   "metadata": {},
   "outputs": [
    {
     "data": {
      "text/html": [
       "<div>\n",
       "<style scoped>\n",
       "    .dataframe tbody tr th:only-of-type {\n",
       "        vertical-align: middle;\n",
       "    }\n",
       "\n",
       "    .dataframe tbody tr th {\n",
       "        vertical-align: top;\n",
       "    }\n",
       "\n",
       "    .dataframe thead th {\n",
       "        text-align: right;\n",
       "    }\n",
       "</style>\n",
       "<table border=\"1\" class=\"dataframe\">\n",
       "  <thead>\n",
       "    <tr style=\"text-align: right;\">\n",
       "      <th></th>\n",
       "      <th>parameter</th>\n",
       "      <th>value_after</th>\n",
       "    </tr>\n",
       "  </thead>\n",
       "  <tbody>\n",
       "    <tr>\n",
       "      <th>0</th>\n",
       "      <td>I_sp</td>\n",
       "      <td>350</td>\n",
       "    </tr>\n",
       "    <tr>\n",
       "      <th>1</th>\n",
       "      <td>dv</td>\n",
       "      <td>3.853959</td>\n",
       "    </tr>\n",
       "    <tr>\n",
       "      <th>2</th>\n",
       "      <td>initOrbit</td>\n",
       "      <td>400</td>\n",
       "    </tr>\n",
       "    <tr>\n",
       "      <th>3</th>\n",
       "      <td>m_dry</td>\n",
       "      <td>1957.0</td>\n",
       "    </tr>\n",
       "    <tr>\n",
       "      <th>4</th>\n",
       "      <td>m_fuel</td>\n",
       "      <td>4055.680381</td>\n",
       "    </tr>\n",
       "    <tr>\n",
       "      <th>5</th>\n",
       "      <td>m_wet</td>\n",
       "      <td>6012.680381</td>\n",
       "    </tr>\n",
       "    <tr>\n",
       "      <th>6</th>\n",
       "      <td>targetOrbit</td>\n",
       "      <td>35786</td>\n",
       "    </tr>\n",
       "  </tbody>\n",
       "</table>\n",
       "</div>"
      ],
      "text/plain": [
       "     parameter  value_after\n",
       "0         I_sp          350\n",
       "1           dv     3.853959\n",
       "2    initOrbit          400\n",
       "3        m_dry       1957.0\n",
       "4       m_fuel  4055.680381\n",
       "5        m_wet  6012.680381\n",
       "6  targetOrbit        35786"
      ]
     },
     "execution_count": 28,
     "metadata": {},
     "output_type": "execute_result"
    }
   ],
   "source": [
    "df_parameters_after"
   ]
  },
  {
   "cell_type": "code",
   "execution_count": 29,
   "metadata": {},
   "outputs": [
    {
     "data": {
      "text/html": [
       "<div>\n",
       "<style scoped>\n",
       "    .dataframe tbody tr th:only-of-type {\n",
       "        vertical-align: middle;\n",
       "    }\n",
       "\n",
       "    .dataframe tbody tr th {\n",
       "        vertical-align: top;\n",
       "    }\n",
       "\n",
       "    .dataframe thead th {\n",
       "        text-align: right;\n",
       "    }\n",
       "</style>\n",
       "<table border=\"1\" class=\"dataframe\">\n",
       "  <thead>\n",
       "    <tr style=\"text-align: right;\">\n",
       "      <th></th>\n",
       "      <th>iri</th>\n",
       "      <th>statevariable</th>\n",
       "      <th>value</th>\n",
       "      <th>parameter</th>\n",
       "      <th>index</th>\n",
       "    </tr>\n",
       "  </thead>\n",
       "  <tbody>\n",
       "    <tr>\n",
       "      <th>0</th>\n",
       "      <td>http://example.com/tutorial2/description/state...</td>\n",
       "      <td>orbiter-spacecraft.delta-v</td>\n",
       "      <td>NaN</td>\n",
       "      <td>dv</td>\n",
       "      <td>0</td>\n",
       "    </tr>\n",
       "    <tr>\n",
       "      <th>1</th>\n",
       "      <td>http://example.com/tutorial2/description/state...</td>\n",
       "      <td>orbiter-spacecraft.initial-orbit</td>\n",
       "      <td>400</td>\n",
       "      <td>initOrbit</td>\n",
       "      <td>0</td>\n",
       "    </tr>\n",
       "    <tr>\n",
       "      <th>2</th>\n",
       "      <td>http://example.com/tutorial2/description/state...</td>\n",
       "      <td>orbiter-spacecraft.isp</td>\n",
       "      <td>350</td>\n",
       "      <td>I_sp</td>\n",
       "      <td>0</td>\n",
       "    </tr>\n",
       "    <tr>\n",
       "      <th>3</th>\n",
       "      <td>http://example.com/tutorial2/description/state...</td>\n",
       "      <td>orbiter-spacecraft.mass.dry</td>\n",
       "      <td>NaN</td>\n",
       "      <td>m_dry</td>\n",
       "      <td>0</td>\n",
       "    </tr>\n",
       "    <tr>\n",
       "      <th>4</th>\n",
       "      <td>http://example.com/tutorial2/description/state...</td>\n",
       "      <td>orbiter-spacecraft.mass.fuel</td>\n",
       "      <td>NaN</td>\n",
       "      <td>m_fuel</td>\n",
       "      <td>0</td>\n",
       "    </tr>\n",
       "    <tr>\n",
       "      <th>5</th>\n",
       "      <td>http://example.com/tutorial2/description/state...</td>\n",
       "      <td>orbiter-spacecraft.mass.wet</td>\n",
       "      <td>NaN</td>\n",
       "      <td>m_wet</td>\n",
       "      <td>0</td>\n",
       "    </tr>\n",
       "    <tr>\n",
       "      <th>6</th>\n",
       "      <td>http://example.com/tutorial2/description/state...</td>\n",
       "      <td>orbiter-spacecraft.target-orbit</td>\n",
       "      <td>35786</td>\n",
       "      <td>targetOrbit</td>\n",
       "      <td>0</td>\n",
       "    </tr>\n",
       "  </tbody>\n",
       "</table>\n",
       "</div>"
      ],
      "text/plain": [
       "                                                 iri  \\\n",
       "0  http://example.com/tutorial2/description/state...   \n",
       "1  http://example.com/tutorial2/description/state...   \n",
       "2  http://example.com/tutorial2/description/state...   \n",
       "3  http://example.com/tutorial2/description/state...   \n",
       "4  http://example.com/tutorial2/description/state...   \n",
       "5  http://example.com/tutorial2/description/state...   \n",
       "6  http://example.com/tutorial2/description/state...   \n",
       "\n",
       "                      statevariable  value    parameter  index  \n",
       "0        orbiter-spacecraft.delta-v    NaN           dv      0  \n",
       "1  orbiter-spacecraft.initial-orbit    400    initOrbit      0  \n",
       "2            orbiter-spacecraft.isp    350         I_sp      0  \n",
       "3       orbiter-spacecraft.mass.dry    NaN        m_dry      0  \n",
       "4      orbiter-spacecraft.mass.fuel    NaN       m_fuel      0  \n",
       "5       orbiter-spacecraft.mass.wet    NaN        m_wet      0  \n",
       "6   orbiter-spacecraft.target-orbit  35786  targetOrbit      0  "
      ]
     },
     "execution_count": 29,
     "metadata": {},
     "output_type": "execute_result"
    }
   ],
   "source": [
    "df_parameters_before"
   ]
  },
  {
   "cell_type": "code",
   "execution_count": 30,
   "metadata": {},
   "outputs": [],
   "source": [
    "import numpy as np\n",
    "\n",
    "df_parameters_before_after = pd.merge(df_parameters_before, df_parameters_after, left_on='parameter', right_on='parameter', how='left')\n",
    "df_parameters_before_after = df_parameters_before_after.rename(columns={'value': 'value_before'})\n",
    "\n",
    "df_parameters_before_after['status'] = np.where((df_parameters_before_after['value_before'])==(df_parameters_before_after['value_after']), 'unchanged', 'changed')\n",
    "\n"
   ]
  },
  {
   "cell_type": "code",
   "execution_count": 31,
   "metadata": {},
   "outputs": [
    {
     "data": {
      "text/html": [
       "<div>\n",
       "<style scoped>\n",
       "    .dataframe tbody tr th:only-of-type {\n",
       "        vertical-align: middle;\n",
       "    }\n",
       "\n",
       "    .dataframe tbody tr th {\n",
       "        vertical-align: top;\n",
       "    }\n",
       "\n",
       "    .dataframe thead th {\n",
       "        text-align: right;\n",
       "    }\n",
       "</style>\n",
       "<table border=\"1\" class=\"dataframe\">\n",
       "  <thead>\n",
       "    <tr style=\"text-align: right;\">\n",
       "      <th></th>\n",
       "      <th>iri</th>\n",
       "      <th>statevariable</th>\n",
       "      <th>value_before</th>\n",
       "      <th>parameter</th>\n",
       "      <th>index</th>\n",
       "      <th>value_after</th>\n",
       "      <th>status</th>\n",
       "    </tr>\n",
       "  </thead>\n",
       "  <tbody>\n",
       "    <tr>\n",
       "      <th>0</th>\n",
       "      <td>http://example.com/tutorial2/description/state...</td>\n",
       "      <td>orbiter-spacecraft.delta-v</td>\n",
       "      <td>NaN</td>\n",
       "      <td>dv</td>\n",
       "      <td>0</td>\n",
       "      <td>3.853959</td>\n",
       "      <td>changed</td>\n",
       "    </tr>\n",
       "    <tr>\n",
       "      <th>1</th>\n",
       "      <td>http://example.com/tutorial2/description/state...</td>\n",
       "      <td>orbiter-spacecraft.initial-orbit</td>\n",
       "      <td>400</td>\n",
       "      <td>initOrbit</td>\n",
       "      <td>0</td>\n",
       "      <td>400</td>\n",
       "      <td>unchanged</td>\n",
       "    </tr>\n",
       "    <tr>\n",
       "      <th>2</th>\n",
       "      <td>http://example.com/tutorial2/description/state...</td>\n",
       "      <td>orbiter-spacecraft.isp</td>\n",
       "      <td>350</td>\n",
       "      <td>I_sp</td>\n",
       "      <td>0</td>\n",
       "      <td>350</td>\n",
       "      <td>unchanged</td>\n",
       "    </tr>\n",
       "    <tr>\n",
       "      <th>3</th>\n",
       "      <td>http://example.com/tutorial2/description/state...</td>\n",
       "      <td>orbiter-spacecraft.mass.dry</td>\n",
       "      <td>NaN</td>\n",
       "      <td>m_dry</td>\n",
       "      <td>0</td>\n",
       "      <td>1957.0</td>\n",
       "      <td>changed</td>\n",
       "    </tr>\n",
       "    <tr>\n",
       "      <th>4</th>\n",
       "      <td>http://example.com/tutorial2/description/state...</td>\n",
       "      <td>orbiter-spacecraft.mass.fuel</td>\n",
       "      <td>NaN</td>\n",
       "      <td>m_fuel</td>\n",
       "      <td>0</td>\n",
       "      <td>4055.680381</td>\n",
       "      <td>changed</td>\n",
       "    </tr>\n",
       "    <tr>\n",
       "      <th>5</th>\n",
       "      <td>http://example.com/tutorial2/description/state...</td>\n",
       "      <td>orbiter-spacecraft.mass.wet</td>\n",
       "      <td>NaN</td>\n",
       "      <td>m_wet</td>\n",
       "      <td>0</td>\n",
       "      <td>6012.680381</td>\n",
       "      <td>changed</td>\n",
       "    </tr>\n",
       "    <tr>\n",
       "      <th>6</th>\n",
       "      <td>http://example.com/tutorial2/description/state...</td>\n",
       "      <td>orbiter-spacecraft.target-orbit</td>\n",
       "      <td>35786</td>\n",
       "      <td>targetOrbit</td>\n",
       "      <td>0</td>\n",
       "      <td>35786</td>\n",
       "      <td>unchanged</td>\n",
       "    </tr>\n",
       "  </tbody>\n",
       "</table>\n",
       "</div>"
      ],
      "text/plain": [
       "                                                 iri  \\\n",
       "0  http://example.com/tutorial2/description/state...   \n",
       "1  http://example.com/tutorial2/description/state...   \n",
       "2  http://example.com/tutorial2/description/state...   \n",
       "3  http://example.com/tutorial2/description/state...   \n",
       "4  http://example.com/tutorial2/description/state...   \n",
       "5  http://example.com/tutorial2/description/state...   \n",
       "6  http://example.com/tutorial2/description/state...   \n",
       "\n",
       "                      statevariable value_before    parameter  index  \\\n",
       "0        orbiter-spacecraft.delta-v          NaN           dv      0   \n",
       "1  orbiter-spacecraft.initial-orbit          400    initOrbit      0   \n",
       "2            orbiter-spacecraft.isp          350         I_sp      0   \n",
       "3       orbiter-spacecraft.mass.dry          NaN        m_dry      0   \n",
       "4      orbiter-spacecraft.mass.fuel          NaN       m_fuel      0   \n",
       "5       orbiter-spacecraft.mass.wet          NaN        m_wet      0   \n",
       "6   orbiter-spacecraft.target-orbit        35786  targetOrbit      0   \n",
       "\n",
       "   value_after     status  \n",
       "0     3.853959    changed  \n",
       "1          400  unchanged  \n",
       "2          350  unchanged  \n",
       "3       1957.0    changed  \n",
       "4  4055.680381    changed  \n",
       "5  6012.680381    changed  \n",
       "6        35786  unchanged  "
      ]
     },
     "execution_count": 31,
     "metadata": {},
     "output_type": "execute_result"
    }
   ],
   "source": [
    "df_parameters_before_after"
   ]
  },
  {
   "cell_type": "markdown",
   "metadata": {},
   "source": [
    "### sending update query"
   ]
  },
  {
   "cell_type": "code",
   "execution_count": 32,
   "metadata": {},
   "outputs": [
    {
     "name": "stderr",
     "output_type": "stream",
     "text": [
      "/Users/mlab/opt/anaconda3/envs/py393/lib/python3.9/site-packages/rpy2/robjects/pandas2ri.py:65: UserWarning: Error while trying to convert the column \"value_before\". Fall back to string conversion. The error is: Series can only be of one type, or None (and here we have <class 'float'> and <class 'str'>). If happening with a pandas DataFrame the method infer_objects() will normalize data types before conversion.\n",
      "  warnings.warn('Error while trying to convert '\n",
      "/Users/mlab/opt/anaconda3/envs/py393/lib/python3.9/site-packages/rpy2/robjects/pandas2ri.py:65: UserWarning: Error while trying to convert the column \"value_after\". Fall back to string conversion. The error is: Series can only be of one type, or None (and here we have <class 'float'> and <class 'str'>). If happening with a pandas DataFrame the method infer_objects() will normalize data types before conversion.\n",
      "  warnings.warn('Error while trying to convert '\n"
     ]
    },
    {
     "data": {
      "text/plain": [
       "\n",
       " 次のパッケージを付け加えます: ‘tansakusuR’ \n",
       "\n",
       " 以下のオブジェクトは ‘package:dplyr’ からマスクされています:\n",
       "\n",
       "    show_query\n",
       "\n"
      ]
     },
     "metadata": {},
     "output_type": "display_data"
    }
   ],
   "source": [
    "%%R -i df_parameters_before_after\n",
    "\n",
    "library(tansakusuR)\n",
    "source(searchDirectory(4, \"updateSparqlQuery.R\", (getwd())))\n",
    "\n",
    "df_update <- df_parameters_before_after %>% \n",
    "  filter(status == \"changed\")\n",
    "\n",
    "endpoint_url <- \"http://localhost:3030/tutorial2-tdb/\"\n",
    "\n",
    "for( i in 1:nrow(df_update) ){\n",
    "  df <- df_update[i,]\n",
    "  update_value <- as.character(df$value_after)\n",
    "  update_iri <- df$iri\n",
    "\n",
    "  df_ret <- updateSparqlQuery(endpoint_url, update_value, update_iri)\n",
    "  \n",
    "  ret <- send_update(endpoint_url = endpoint_url, df_ret$query_string_delete_tdb)\n",
    "  ret <- send_update(endpoint_url = endpoint_url, df_ret$query_string_insert_tdb)\n",
    "  \n",
    "}\n",
    "\n"
   ]
  },
  {
   "cell_type": "markdown",
   "metadata": {},
   "source": [
    "## Run Save in OML-Vision"
   ]
  },
  {
   "cell_type": "markdown",
   "metadata": {},
   "source": [
    "Using OML-Vision GUI, run the save task.\n",
    "Then you can see the oml file is updated."
   ]
  }
 ],
 "metadata": {
  "kernelspec": {
   "display_name": "py393",
   "language": "python",
   "name": "python3"
  },
  "language_info": {
   "codemirror_mode": {
    "name": "ipython",
    "version": 3
   },
   "file_extension": ".py",
   "mimetype": "text/x-python",
   "name": "python",
   "nbconvert_exporter": "python",
   "pygments_lexer": "ipython3",
   "version": "3.9.19"
  }
 },
 "nbformat": 4,
 "nbformat_minor": 2
}
